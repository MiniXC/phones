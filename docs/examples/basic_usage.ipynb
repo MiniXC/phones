{
 "cells": [
  {
   "cell_type": "code",
   "execution_count": 14,
   "id": "da7592f8-9f0b-41f7-9d99-acd93723833f",
   "metadata": {},
   "outputs": [],
   "source": [
    "from phones import PhoneCollection\n",
    "from phones.sources import PHOIBLE, PANPHON\n",
    "import numpy as np"
   ]
  },
  {
   "cell_type": "code",
   "execution_count": 2,
   "id": "ca620b57-9f02-42c0-a695-db536f9c85b1",
   "metadata": {},
   "outputs": [],
   "source": [
    "from phones.features import PhoneFeature"
   ]
  },
  {
   "cell_type": "code",
   "execution_count": 15,
   "id": "385ecd71-4347-40d5-b6e6-7b9bb9aa5b1a",
   "metadata": {},
   "outputs": [],
   "source": [
    "pc = PhoneCollection(PANPHON)"
   ]
  },
  {
   "cell_type": "code",
   "execution_count": 16,
   "id": "87943544-c8bc-463f-a636-8c232243a85b",
   "metadata": {},
   "outputs": [
    {
     "data": {
      "text/plain": [
       "['ant',\n",
       " 'back',\n",
       " 'cg',\n",
       " 'cons',\n",
       " 'cont',\n",
       " 'cor',\n",
       " 'delrel',\n",
       " 'distr',\n",
       " 'hi',\n",
       " 'hireg',\n",
       " 'hitone',\n",
       " 'lab',\n",
       " 'lat',\n",
       " 'lo',\n",
       " 'long',\n",
       " 'nas',\n",
       " 'round',\n",
       " 'sg',\n",
       " 'son',\n",
       " 'strid',\n",
       " 'syl',\n",
       " 'tense',\n",
       " 'velaric',\n",
       " 'voi']"
      ]
     },
     "execution_count": 16,
     "metadata": {},
     "output_type": "execute_result"
    }
   ],
   "source": [
    "pc.phones(\"z\").val.feature_names"
   ]
  },
  {
   "cell_type": "code",
   "execution_count": 18,
   "id": "4dcde4ca-327e-47fb-86ee-dabd926077d2",
   "metadata": {},
   "outputs": [
    {
     "data": {
      "text/plain": [
       "[(1.0, a),\n",
       " (1.0, aˤ),\n",
       " (1.0, a̘),\n",
       " (1.0, a̝),\n",
       " (1.0, a̞),\n",
       " (1.0, a̟),\n",
       " (1.0, a̠),\n",
       " (1.0, eˤ),\n",
       " (1.0, ä),\n",
       " (1.0, æ),\n",
       " (1.0, æˤ),\n",
       " (1.0, æ̆),\n",
       " (1.0, æ̈),\n",
       " (1.0, æ̘),\n",
       " (1.0, æ̝),\n",
       " (1.0, æ̞),\n",
       " (1.0, æ̟),\n",
       " (1.0, æ̠),\n",
       " (1.0, ă),\n",
       " (1.0, ɐˤ),\n",
       " (1.0, ɜˤ),\n",
       " (1.0, ʌˤ)]"
      ]
     },
     "execution_count": 18,
     "metadata": {},
     "output_type": "execute_result"
    }
   ],
   "source": [
    "(pc.phones(\"a\").val + PhoneFeature(\"back\", 1))"
   ]
  },
  {
   "cell_type": "code",
   "execution_count": 3,
   "id": "9607af9b-ab9c-463f-a36c-158792823584",
   "metadata": {},
   "outputs": [
    {
     "data": {
      "text/plain": [
       "'W ER L D'"
      ]
     },
     "execution_count": 3,
     "metadata": {},
     "output_type": "execute_result"
    }
   ],
   "source": [
    "from phones.convert import converter\n",
    "converter.convert(\"wɜ˞ld\", \"ipa\", \"arpabet\")"
   ]
  },
  {
   "cell_type": "code",
   "execution_count": 2,
   "id": "0a5d1403-e8e9-4e8e-a53a-d8615348a291",
   "metadata": {},
   "outputs": [],
   "source": []
  },
  {
   "cell_type": "code",
   "execution_count": 3,
   "id": "4950d9b4-2a35-45fe-9ae0-d6ae2892534c",
   "metadata": {},
   "outputs": [
    {
     "data": {
      "text/plain": [
       "[(2.8284271247461903, z (deu)), (2.8284271247461903, ʒ (deu))]"
      ]
     },
     "execution_count": 3,
     "metadata": {},
     "output_type": "execute_result"
    }
   ],
   "source": [
    "pc.get_closest(\"ð\", \"eng\", \"deu\")"
   ]
  },
  {
   "cell_type": "code",
   "execution_count": 4,
   "id": "b98c74c2-0ad8-4a1a-8cad-3596c910b421",
   "metadata": {},
   "outputs": [
    {
     "data": {
      "text/plain": [
       "z"
      ]
     },
     "execution_count": 4,
     "metadata": {},
     "output_type": "execute_result"
    }
   ],
   "source": [
    "from time import time\n",
    "start = time()\n",
    "pc.phones(\"z\").val.langs(\"eng\").noise(1, return_close=True, random_state=10)"
   ]
  },
  {
   "cell_type": "code",
   "execution_count": 14,
   "id": "c4b91061-c812-451b-9ca9-324744f7e890",
   "metadata": {},
   "outputs": [
    {
     "data": {
      "text/plain": [
       "[(2.0, z (eng))]"
      ]
     },
     "execution_count": 14,
     "metadata": {},
     "output_type": "execute_result"
    }
   ],
   "source": [
    "pc = PhoneCollection()\n",
    "pc.phones(\"z\").val.noise(.05, random_state=42).langs(\"eng\").closest()"
   ]
  },
  {
   "cell_type": "code",
   "execution_count": 2,
   "id": "02c9a1fe-3389-4234-8df2-247b39318abb",
   "metadata": {},
   "outputs": [],
   "source": [
    "import pandas as pd"
   ]
  },
  {
   "cell_type": "code",
   "execution_count": 3,
   "id": "210884f1-f1a0-4543-b637-c5a57f9ad5bd",
   "metadata": {},
   "outputs": [],
   "source": [
    "df = pd.read_csv(\"../../src/phones/data/phonemes.csv\")"
   ]
  },
  {
   "cell_type": "code",
   "execution_count": 96,
   "id": "e70d1dff-5efa-4751-bc44-e0cf762582ad",
   "metadata": {},
   "outputs": [],
   "source": [
    "import re\n",
    "\n",
    "def convert(x, _from=\"xsampa\", _to=\"ipa\"):\n",
    "    _df = df.dropna(subset=[_from, _to])\n",
    "    _df = _df.sort_values([_from,_to])\n",
    "    _df[_from] = _df[_from].apply(lambda x: f\"{x}(?![^\\\\(]*[\\\\)])\")\n",
    "    _df[_to] = _df[_to].apply(lambda x: x.replace(\"\\.\", \".\"))\n",
    "    _df[_to] = _df[_to].apply(lambda x: f\"({x})\")\n",
    "    _df = _df.reset_index(drop=True)\n",
    "    if _from == \"arpabet\":\n",
    "        _df.loc[len(_df)] = [\"\", \"\", \" \"]\n",
    "        _df.loc[-1] = [\" \", \" \", \"\\\\d\"]\n",
    "        _df.index = _df.index + 1\n",
    "        _df = _df.sort_index()\n",
    "    _df.loc[len(_df)] = [\"\", \"\", \"\"]\n",
    "    _df.iloc[-1][_from] = \"\\\\(|\\\\)\"\n",
    "    x = f\" {x} \"\n",
    "    for _, row in _df.iterrows():\n",
    "        x = re.sub(row[_from], row[_to], x)\n",
    "    return x.strip()"
   ]
  },
  {
   "cell_type": "code",
   "execution_count": 103,
   "id": "99939a49-0681-4e08-a190-0a384a470e1d",
   "metadata": {},
   "outputs": [
    {
     "data": {
      "text/plain": [
       "'ɶ0 β ɒ0 ð ɔ0 ŋ ɪɨ ʁ θ'"
      ]
     },
     "execution_count": 103,
     "metadata": {},
     "output_type": "execute_result"
    }
   ],
   "source": [
    "convert(\"&0 b q0 d O0 n i1 r t\".upper(), \"xsampa\", \"ipa\")"
   ]
  },
  {
   "cell_type": "code",
   "execution_count": 76,
   "id": "ff934401-3cd6-477c-a24f-49c1afb55214",
   "metadata": {},
   "outputs": [
    {
     "data": {
      "text/plain": [
       "('wɝld', 'wɜ˞ld')"
      ]
     },
     "execution_count": 76,
     "metadata": {},
     "output_type": "execute_result"
    }
   ],
   "source": [
    "from unicodedata import normalize, name\n",
    "normalize('NFKC', \"wɜːld\"), normalize('NFKC', \"wɜ˞ld\")"
   ]
  },
  {
   "cell_type": "code",
   "execution_count": 83,
   "id": "c95bfe0b-b396-4267-8fdd-6a656ed7d89f",
   "metadata": {},
   "outputs": [
    {
     "data": {
      "text/plain": [
       "'ɝ'"
      ]
     },
     "execution_count": 83,
     "metadata": {},
     "output_type": "execute_result"
    }
   ],
   "source": [
    "normalize('NFKD', \"ɝ\")"
   ]
  },
  {
   "cell_type": "code",
   "execution_count": 77,
   "id": "a3bfcb4d-5de5-468a-b372-e61bce536eb7",
   "metadata": {},
   "outputs": [
    {
     "data": {
      "text/plain": [
       "['LATIN SMALL LETTER W',\n",
       " 'LATIN SMALL LETTER REVERSED OPEN E',\n",
       " 'MODIFIER LETTER RHOTIC HOOK',\n",
       " 'LATIN SMALL LETTER L',\n",
       " 'LATIN SMALL LETTER D']"
      ]
     },
     "execution_count": 77,
     "metadata": {},
     "output_type": "execute_result"
    }
   ],
   "source": [
    "[name(x) for x in \"wɜ˞ld\"]"
   ]
  },
  {
   "cell_type": "code",
   "execution_count": 78,
   "id": "a4743fe6-7978-47c7-8a6f-a3513aa85d5e",
   "metadata": {},
   "outputs": [
    {
     "data": {
      "text/plain": [
       "['LATIN SMALL LETTER W',\n",
       " 'LATIN SMALL LETTER REVERSED OPEN E WITH HOOK',\n",
       " 'LATIN SMALL LETTER L',\n",
       " 'LATIN SMALL LETTER D']"
      ]
     },
     "execution_count": 78,
     "metadata": {},
     "output_type": "execute_result"
    }
   ],
   "source": [
    "[name(x) for x in 'wɝld']"
   ]
  },
  {
   "cell_type": "code",
   "execution_count": null,
   "id": "29d62681-d554-4f6c-b5ff-ed824dc56ab0",
   "metadata": {},
   "outputs": [],
   "source": []
  }
 ],
 "metadata": {
  "kernelspec": {
   "display_name": "Python 3 (ipykernel)",
   "language": "python",
   "name": "python3"
  },
  "language_info": {
   "codemirror_mode": {
    "name": "ipython",
    "version": 3
   },
   "file_extension": ".py",
   "mimetype": "text/x-python",
   "name": "python",
   "nbconvert_exporter": "python",
   "pygments_lexer": "ipython3",
   "version": "3.9.7"
  }
 },
 "nbformat": 4,
 "nbformat_minor": 5
}
