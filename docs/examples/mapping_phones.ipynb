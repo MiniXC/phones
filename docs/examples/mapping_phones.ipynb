{
 "cells": [
  {
   "cell_type": "code",
   "execution_count": null,
   "id": "f6b47df6-5bed-4b2f-9246-ddbe21185431",
   "metadata": {},
   "outputs": [],
   "source": [
    "from phones import PhoneCollection\n",
    "pc = PhoneCollection()"
   ]
  },
  {
   "cell_type": "markdown",
   "id": "e311cddc-f269-430e-8ff1-822dd0b12b23",
   "metadata": {},
   "source": [
    "There are several ways to convert phones between languages."
   ]
  },
  {
   "cell_type": "markdown",
   "id": "915be559-40fc-421b-9c8b-00bd3d640432",
   "metadata": {},
   "source": [
    "### On a Collection Level\n",
    "The `get_closest` method allows you to find the closest phone to the source language phone in the target language and shows you the euclidean distance as well."
   ]
  },
  {
   "cell_type": "code",
   "execution_count": 5,
   "id": "385ecd71-4347-40d5-b6e6-7b9bb9aa5b1a",
   "metadata": {},
   "outputs": [
    {
     "data": {
      "text/plain": [
       "[(2.8284271247461903, z (deu)), (2.8284271247461903, ʒ (deu))]"
      ]
     },
     "execution_count": 5,
     "metadata": {},
     "output_type": "execute_result"
    }
   ],
   "source": [
    "# get the closest german phones to the english phone ð\n",
    "pc.get_closest(\"ð\", \"eng\", \"deu\")"
   ]
  },
  {
   "cell_type": "code",
   "execution_count": 6,
   "id": "48843c90-fad8-41e0-b2ec-00f58db12ed0",
   "metadata": {},
   "outputs": [
    {
     "data": {
      "text/plain": [
       "[(2.8284271247461903, z (deu)),\n",
       " (2.8284271247461903, ʒ (deu)),\n",
       " (3.4641016151377544, d (deu)),\n",
       " (3.4641016151377544, s (deu)),\n",
       " (3.4641016151377544, ʃ (deu))]"
      ]
     },
     "execution_count": 6,
     "metadata": {},
     "output_type": "execute_result"
    }
   ],
   "source": [
    "# also get phones which are further away\n",
    "pc.get_closest(\"ð\", \"eng\", \"deu\", return_all=True)[:5]"
   ]
  },
  {
   "cell_type": "markdown",
   "id": "2751a895-dc80-4eb1-9313-9972274c7ed0",
   "metadata": {},
   "source": [
    "### On a Phone Level\n",
    "Alternatively, the `.closest` method each phone has can be used."
   ]
  },
  {
   "cell_type": "code",
   "execution_count": 7,
   "id": "0bd22491-a427-49ce-809a-f8ace1067a7b",
   "metadata": {},
   "outputs": [
    {
     "data": {
      "text/plain": [
       "[(2.8284271247461903, z (deu)), (2.8284271247461903, ʒ (deu))]"
      ]
     },
     "execution_count": 7,
     "metadata": {},
     "output_type": "execute_result"
    }
   ],
   "source": [
    "pc.phones(\"ð\").val.langs(\"deu\").closest()"
   ]
  },
  {
   "cell_type": "markdown",
   "id": "b4167ab4-6394-425d-a635-d6b36ed3f451",
   "metadata": {},
   "source": [
    "### Noisy Conversion\n",
    "As you can see above, there are two phones with the same distance.\n",
    "You might want to introduce some randomness and translate to different close phones each time.\n",
    "In this case, you can use the `.noise` method."
   ]
  },
  {
   "cell_type": "code",
   "execution_count": 15,
   "id": "9607af9b-ab9c-463f-a36c-158792823584",
   "metadata": {},
   "outputs": [
    {
     "data": {
      "text/plain": [
       "[(2.8284271247461903, ʒ (deu))]"
      ]
     },
     "execution_count": 15,
     "metadata": {},
     "output_type": "execute_result"
    }
   ],
   "source": [
    "(\n",
    "    pc\n",
    "    .phones(\"ð\")\n",
    "    .val\n",
    "    .noise(p=.05, random_state=10)\n",
    "    .langs(\"deu\")\n",
    "    .closest()\n",
    ")"
   ]
  },
  {
   "cell_type": "markdown",
   "id": "92234242-5e81-4c4e-bcf3-dcb0f581e072",
   "metadata": {},
   "source": [
    "This is done by corrupting each value in the phone vector with probability `p`.\n",
    "\n",
    "The higher `p`, the more likely changes are to the vector, which can lead to phones with higher distances."
   ]
  },
  {
   "cell_type": "code",
   "execution_count": 16,
   "id": "0192ab14-ddc9-4779-a5e8-eebadc482769",
   "metadata": {},
   "outputs": [
    {
     "data": {
      "text/plain": [
       "[(7.3484692283495345, øː (deu))]"
      ]
     },
     "execution_count": 16,
     "metadata": {},
     "output_type": "execute_result"
    }
   ],
   "source": [
    "(\n",
    "    pc\n",
    "    .phones(\"ð\")\n",
    "    .val\n",
    "    .noise(p=1, random_state=10)\n",
    "    .langs(\"deu\")\n",
    "    .closest()\n",
    ")"
   ]
  }
 ],
 "metadata": {
  "kernelspec": {
   "display_name": "Python 3 (ipykernel)",
   "language": "python",
   "name": "python3"
  },
  "language_info": {
   "codemirror_mode": {
    "name": "ipython",
    "version": 3
   },
   "file_extension": ".py",
   "mimetype": "text/x-python",
   "name": "python",
   "nbconvert_exporter": "python",
   "pygments_lexer": "ipython3",
   "version": "3.9.7"
  }
 },
 "nbformat": 4,
 "nbformat_minor": 5
}
