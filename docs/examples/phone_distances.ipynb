{
 "cells": [
  {
   "cell_type": "code",
   "execution_count": 1,
   "id": "4a3f5707-f64a-4c04-b1d9-950050b2bbbe",
   "metadata": {},
   "outputs": [],
   "source": [
    "from phones import PhoneCollection\n",
    "pc = PhoneCollection()"
   ]
  },
  {
   "cell_type": "markdown",
   "id": "66deb701-02c3-47b2-9fe3-91f9bc53f8e7",
   "metadata": {},
   "source": [
    "### Across Languages\n",
    "We can also compute the distance between phones across all languages, in which case the phone features are averaged."
   ]
  },
  {
   "cell_type": "code",
   "execution_count": 20,
   "id": "2e1f231a-6e6e-4230-a2c3-cfbfc1608c87",
   "metadata": {},
   "outputs": [
    {
     "data": {
      "text/plain": [
       "2.0"
      ]
     },
     "execution_count": 20,
     "metadata": {},
     "output_type": "execute_result"
    }
   ],
   "source": [
    "pc.get_mean_phone_distance(\"ʉ\", \"u\")"
   ]
  },
  {
   "cell_type": "markdown",
   "id": "3e4ce76f-2ea0-4490-83c7-d711161895b4",
   "metadata": {},
   "source": [
    "### Distance Weights\n",
    "All methods involving distances also allow to specify a distance vector to give features more or less weight."
   ]
  },
  {
   "cell_type": "code",
   "execution_count": 24,
   "id": "ac2ee2cf-7cd8-402a-b756-aa7da765007f",
   "metadata": {},
   "outputs": [
    {
     "data": {
      "text/plain": [
       "'back'"
      ]
     },
     "execution_count": 24,
     "metadata": {},
     "output_type": "execute_result"
    }
   ],
   "source": [
    "# find the name of the feature at index 3\n",
    "pc.source.feature_columns[3]"
   ]
  },
  {
   "cell_type": "code",
   "execution_count": 25,
   "id": "4b6ed36e-bac6-4798-a1b2-8d0ec2d3feb0",
   "metadata": {},
   "outputs": [
    {
     "data": {
      "text/plain": [
       "0.0"
      ]
     },
     "execution_count": 25,
     "metadata": {},
     "output_type": "execute_result"
    }
   ],
   "source": [
    "import numpy as np\n",
    "# set feature weight of \"back\" to 0\n",
    "weights = np.ones(len(pc.source.feature_columns))\n",
    "weights[3] = 0\n",
    "pc.get_mean_phone_distance(\"ʉ\", \"u\", distance_weights=tuple(weights))"
   ]
  },
  {
   "cell_type": "markdown",
   "id": "070e116b-7fb6-4c10-9f7b-57708938ac3a",
   "metadata": {},
   "source": [
    "### By Vector\n",
    "Another option is to find the closest phone to a particular phone vector."
   ]
  },
  {
   "cell_type": "code",
   "execution_count": 3,
   "id": "757a43af-0224-4d95-b58e-bf2397565f68",
   "metadata": {},
   "outputs": [
    {
     "data": {
      "text/plain": [
       "[(0.0, a (aar)), (0.0, a (abb)), (0.0, a (abi))]"
      ]
     },
     "execution_count": 3,
     "metadata": {},
     "output_type": "execute_result"
    }
   ],
   "source": [
    "pc.get_closest_by_vector(\n",
    "    [-1.,  0.,  1., -1.,  0., -1., -1.,  1., -1.,  0.,  0.,  1., -1.,\n",
    "      0., -1., -1., -1.,  0., -1., -1.,  1., -1., -1.,  1., -1., -1.,\n",
    "      0., -1.,  1., -1., -1.,  0.,  1., -1.,  0.,  0., -1.]\n",
    ")[:3]"
   ]
  },
  {
   "cell_type": "markdown",
   "id": "bdaa18d6-0d08-43b6-9003-69e9b8182b20",
   "metadata": {},
   "source": [
    "### Allophone Distance\n",
    "Another method allows you to compute the mean allophone distance of all phones and their allophones.\n",
    "This might be useful to evaluate how well the features represent the phones.\n",
    "\n",
    "It is recommended you do this on a subset of languages or use ``show_progress=True`` as this can take a long time."
   ]
  },
  {
   "cell_type": "code",
   "execution_count": 4,
   "id": "abdc3751-3f59-410c-b7c9-162f435276d0",
   "metadata": {},
   "outputs": [
    {
     "data": {
      "text/plain": [
       "1.4283613834276276"
      ]
     },
     "execution_count": 4,
     "metadata": {},
     "output_type": "execute_result"
    }
   ],
   "source": [
    "pc.langs([\"eng\", \"deu\"]).get_mean_allophone_distance()"
   ]
  }
 ],
 "metadata": {
  "kernelspec": {
   "display_name": "Python 3 (ipykernel)",
   "language": "python",
   "name": "python3"
  },
  "language_info": {
   "codemirror_mode": {
    "name": "ipython",
    "version": 3
   },
   "file_extension": ".py",
   "mimetype": "text/x-python",
   "name": "python",
   "nbconvert_exporter": "python",
   "pygments_lexer": "ipython3",
   "version": "3.9.7"
  }
 },
 "nbformat": 4,
 "nbformat_minor": 5
}
