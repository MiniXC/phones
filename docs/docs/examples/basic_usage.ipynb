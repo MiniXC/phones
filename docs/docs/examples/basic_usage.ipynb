{
 "cells": [
  {
   "cell_type": "markdown",
   "id": "e311cddc-f269-430e-8ff1-822dd0b12b23",
   "metadata": {},
   "source": [
    "## Using `PhoneCollection`\n",
    "\n",
    "The `PhoneCollection` class loads all phones from [phoible](https://phoible.org) per default.\n",
    "This means you have access to phone definitons and their features in many languages."
   ]
  },
  {
   "cell_type": "code",
   "execution_count": 3,
   "id": "da7592f8-9f0b-41f7-9d99-acd93723833f",
   "metadata": {
    "tags": []
   },
   "outputs": [],
   "source": [
    "from phones import PhoneCollection\n",
    "pc = PhoneCollection()"
   ]
  },
  {
   "cell_type": "markdown",
   "id": "915be559-40fc-421b-9c8b-00bd3d640432",
   "metadata": {},
   "source": [
    "### Getting all Phones in a Language\n",
    "Let's first retrieve the first 5 phones in English.\n",
    "As phoible uses [ISO 639-3 language codes](https://en.wikipedia.org/wiki/Wikipedia:WikiProject_Languages/List_of_ISO_639-3_language_codes_(2019\\the)), we use `.langs` with the `\"eng\"` code to retrieve English phones."
   ]
  },
  {
   "cell_type": "code",
   "execution_count": 6,
   "id": "385ecd71-4347-40d5-b6e6-7b9bb9aa5b1a",
   "metadata": {},
   "outputs": [
    {
     "data": {
      "text/plain": [
       "[aː (eng), b (eng), d (eng), d̠ʒ (eng), e (eng)]"
      ]
     },
     "execution_count": 6,
     "metadata": {},
     "output_type": "execute_result"
    }
   ],
   "source": [
    "# get 5 english phones\n",
    "pc.langs(\"eng\").values[:5]"
   ]
  },
  {
   "cell_type": "markdown",
   "id": "c460ad03-7500-481f-8ce6-ddd4a3b19a23",
   "metadata": {},
   "source": [
    "We can also retrieve phones in multiple languages."
   ]
  },
  {
   "cell_type": "code",
   "execution_count": 10,
   "id": "9df4e483-835e-468c-8404-8cdd63681237",
   "metadata": {},
   "outputs": [
    {
     "data": {
      "text/plain": [
       "[a (deu), aɪ (deu), aʊ (deu), aː (deu), aː (eng)]"
      ]
     },
     "execution_count": 10,
     "metadata": {},
     "output_type": "execute_result"
    }
   ],
   "source": [
    "# get 5 english/german phones\n",
    "pc.langs([\"eng\", \"deu\"]).values[:5]"
   ]
  },
  {
   "cell_type": "markdown",
   "id": "b4167ab4-6394-425d-a635-d6b36ed3f451",
   "metadata": {},
   "source": [
    "### Getting a Specific Phone\n",
    "Using `.phones`, we can also retrieve specific phones."
   ]
  },
  {
   "cell_type": "code",
   "execution_count": 14,
   "id": "9607af9b-ab9c-463f-a36c-158792823584",
   "metadata": {},
   "outputs": [
    {
     "data": {
      "text/plain": [
       "[aɪ (blb), aɪ (deu), aɪ (ruk), aɪ (shk)]"
      ]
     },
     "execution_count": 14,
     "metadata": {},
     "output_type": "execute_result"
    }
   ],
   "source": [
    "pc.phones(\"aɪ\").values"
   ]
  },
  {
   "cell_type": "markdown",
   "id": "92234242-5e81-4c4e-bcf3-dcb0f581e072",
   "metadata": {},
   "source": [
    "You can use `.val`, if you want to get only one phone instead of a phone for each language."
   ]
  },
  {
   "cell_type": "code",
   "execution_count": 15,
   "id": "0192ab14-ddc9-4779-a5e8-eebadc482769",
   "metadata": {},
   "outputs": [
    {
     "data": {
      "text/plain": [
       "aɪ"
      ]
     },
     "execution_count": 15,
     "metadata": {},
     "output_type": "execute_result"
    }
   ],
   "source": [
    "pc.phones(\"aɪ\").val"
   ]
  },
  {
   "cell_type": "markdown",
   "id": "58ba860b-7a13-4ef0-b58e-5040eb1e7a6b",
   "metadata": {},
   "source": [
    "Using `.vector`, the vector representation of the phone can be accessed."
   ]
  },
  {
   "cell_type": "code",
   "execution_count": 16,
   "id": "6c794e60-9c83-4926-8abb-01a9f05008f5",
   "metadata": {},
   "outputs": [
    {
     "data": {
      "text/plain": [
       "array([-1.,  0.,  1., -1.,  0., -1., -1.,  1., -1.,  0.,  0.,  1., -1.,\n",
       "        0.,  0.,  0., -1.,  0., -1., -1.,  0., -1., -1.,  1., -1., -1.,\n",
       "        0., -1.,  1., -1., -1.,  0.,  1., -1., -1.,  0., -1.])"
      ]
     },
     "execution_count": 16,
     "metadata": {},
     "output_type": "execute_result"
    }
   ],
   "source": [
    "pc.phones(\"aɪ\").val.vector"
   ]
  },
  {
   "cell_type": "markdown",
   "id": "f286b297-a90f-48b8-b76f-c7399bdf5d6a",
   "metadata": {},
   "source": [
    "### Using other Collections\n",
    "Sources for `PhoneCollection` can be imported from `phones.sources`. \n",
    "\n",
    "At the moment [phoible](https://phoible.org) and [panphon](https://github.com/dmort27/panphon) are supported."
   ]
  },
  {
   "cell_type": "code",
   "execution_count": 4,
   "id": "55b17513-4dec-4464-98a4-a243545b029e",
   "metadata": {},
   "outputs": [],
   "source": [
    "from phones.sources import PANPHON, PHOIBLE\n",
    "pc = PhoneCollection(PANPHON)"
   ]
  }
 ],
 "metadata": {
  "kernelspec": {
   "display_name": "Python 3 (ipykernel)",
   "language": "python",
   "name": "python3"
  },
  "language_info": {
   "codemirror_mode": {
    "name": "ipython",
    "version": 3
   },
   "file_extension": ".py",
   "mimetype": "text/x-python",
   "name": "python",
   "nbconvert_exporter": "python",
   "pygments_lexer": "ipython3",
   "version": "3.9.7"
  }
 },
 "nbformat": 4,
 "nbformat_minor": 5
}
