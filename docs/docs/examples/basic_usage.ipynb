{
 "cells": [
  {
   "cell_type": "markdown",
   "id": "e311cddc-f269-430e-8ff1-822dd0b12b23",
   "metadata": {},
   "source": [
    "## Using `PhoneCollection`\n",
    "\n",
    "The `PhoneCollection` class loads all phones from [phoible](https://phoible.org) per default.\n",
    "This means you have access to phone definitons and their features in many languages."
   ]
  },
  {
   "cell_type": "code",
   "execution_count": 1,
   "id": "da7592f8-9f0b-41f7-9d99-acd93723833f",
   "metadata": {
    "tags": []
   },
   "outputs": [],
   "source": [
    "from phones import PhoneCollection\n",
    "pc = PhoneCollection()"
   ]
  },
  {
   "cell_type": "markdown",
   "id": "915be559-40fc-421b-9c8b-00bd3d640432",
   "metadata": {},
   "source": [
    "### Getting all Phones in a Language\n",
    "Let's first retrieve the first 5 phones in English.\n",
    "As phoible uses [ISO 639-3 language codes](https://en.wikipedia.org/wiki/Wikipedia:WikiProject_Languages/List_of_ISO_639-3_language_codes_(2019\\the)), we use `.langs` with the `\"eng\"` code to retrieve English phones."
   ]
  },
  {
   "cell_type": "code",
   "execution_count": 2,
   "id": "385ecd71-4347-40d5-b6e6-7b9bb9aa5b1a",
   "metadata": {},
   "outputs": [
    {
     "data": {
      "text/plain": [
       "[aː (eng), b (eng), d (eng), d̠ʒ (eng), e (eng)]"
      ]
     },
     "execution_count": 2,
     "metadata": {},
     "output_type": "execute_result"
    }
   ],
   "source": [
    "# get 5 english phones\n",
    "pc.langs(\"eng\").values[:5]"
   ]
  },
  {
   "cell_type": "markdown",
   "id": "c460ad03-7500-481f-8ce6-ddd4a3b19a23",
   "metadata": {},
   "source": [
    "We can also retrieve phones in multiple languages."
   ]
  },
  {
   "cell_type": "code",
   "execution_count": 3,
   "id": "9df4e483-835e-468c-8404-8cdd63681237",
   "metadata": {},
   "outputs": [
    {
     "data": {
      "text/plain": [
       "[a (deu), ai (deu), au (deu), aɪ (deu), aʊ (deu)]"
      ]
     },
     "execution_count": 3,
     "metadata": {},
     "output_type": "execute_result"
    }
   ],
   "source": [
    "# get 5 english/german phones\n",
    "pc.langs([\"eng\", \"deu\"]).values[:5]"
   ]
  },
  {
   "cell_type": "markdown",
   "id": "5a79fb87-16e9-494e-9ab1-685c016fcc8f",
   "metadata": {},
   "source": [
    "Languages can be listed using ```lang_list```."
   ]
  },
  {
   "cell_type": "code",
   "execution_count": 4,
   "id": "6e889fd3-9473-427f-8abc-40a784612979",
   "metadata": {},
   "outputs": [
    {
     "data": {
      "text/plain": [
       "['aal', 'aap', 'aar', 'aau', 'abb']"
      ]
     },
     "execution_count": 4,
     "metadata": {},
     "output_type": "execute_result"
    }
   ],
   "source": [
    "pc.lang_list[:5]"
   ]
  },
  {
   "cell_type": "markdown",
   "id": "b4167ab4-6394-425d-a635-d6b36ed3f451",
   "metadata": {},
   "source": [
    "### Getting a Specific Phone\n",
    "Using `.phones`, we can also retrieve specific phones."
   ]
  },
  {
   "cell_type": "code",
   "execution_count": 5,
   "id": "9607af9b-ab9c-463f-a36c-158792823584",
   "metadata": {},
   "outputs": [
    {
     "data": {
      "text/plain": [
       "[aɪ (blb), aɪ (deu), aɪ (fao), aɪ (ruk), aɪ (shk), aɪ (wym)]"
      ]
     },
     "execution_count": 5,
     "metadata": {},
     "output_type": "execute_result"
    }
   ],
   "source": [
    "pc.phones(\"aɪ\").values"
   ]
  },
  {
   "cell_type": "markdown",
   "id": "92234242-5e81-4c4e-bcf3-dcb0f581e072",
   "metadata": {},
   "source": [
    "You can use `.val`, if you want to get only one phone instead of a phone for each language."
   ]
  },
  {
   "cell_type": "code",
   "execution_count": 6,
   "id": "0192ab14-ddc9-4779-a5e8-eebadc482769",
   "metadata": {},
   "outputs": [
    {
     "data": {
      "text/plain": [
       "aɪ"
      ]
     },
     "execution_count": 6,
     "metadata": {},
     "output_type": "execute_result"
    }
   ],
   "source": [
    "pc.phones(\"aɪ\").val"
   ]
  },
  {
   "cell_type": "markdown",
   "id": "58ba860b-7a13-4ef0-b58e-5040eb1e7a6b",
   "metadata": {},
   "source": [
    "Using `.vector`, the vector representation of the phone can be accessed."
   ]
  },
  {
   "cell_type": "code",
   "execution_count": 7,
   "id": "6c794e60-9c83-4926-8abb-01a9f05008f5",
   "metadata": {},
   "outputs": [
    {
     "data": {
      "text/plain": [
       "array([-1.,  0.,  1., -1.,  0., -1., -1.,  1., -1.,  0.,  0.,  1., -1.,\n",
       "        0.,  0.,  0., -1.,  0., -1., -1.,  0., -1., -1.,  1., -1., -1.,\n",
       "        0., -1.,  1., -1., -1.,  0.,  1., -1., -1.,  0., -1.])"
      ]
     },
     "execution_count": 7,
     "metadata": {},
     "output_type": "execute_result"
    }
   ],
   "source": [
    "pc.phones(\"aɪ\").val.vector"
   ]
  },
  {
   "cell_type": "markdown",
   "id": "c05c93e8-31cc-4f4a-a2fa-443c6f6f7e1f",
   "metadata": {},
   "source": [
    "As with languages, phones can be listed using ```phone_list```."
   ]
  },
  {
   "cell_type": "code",
   "execution_count": 8,
   "id": "2a624a67-d297-4eea-a1fa-879d59e82c1d",
   "metadata": {},
   "outputs": [
    {
     "data": {
      "text/plain": [
       "['aː', 'b', 'd', 'd̠ʒ', 'e']"
      ]
     },
     "execution_count": 8,
     "metadata": {},
     "output_type": "execute_result"
    }
   ],
   "source": [
    "pc.langs(\"eng\").phone_list[:5]"
   ]
  },
  {
   "cell_type": "markdown",
   "id": "f286b297-a90f-48b8-b76f-c7399bdf5d6a",
   "metadata": {},
   "source": [
    "### Using other Collections\n",
    "Sources for `PhoneCollection` can be imported from `phones.sources`. \n",
    "\n",
    "At the moment [phoible](https://phoible.org) and [panphon](https://github.com/dmort27/panphon) are supported."
   ]
  },
  {
   "cell_type": "code",
   "execution_count": 9,
   "id": "55b17513-4dec-4464-98a4-a243545b029e",
   "metadata": {},
   "outputs": [],
   "source": [
    "from phones.sources import PANPHON, PHOIBLE\n",
    "pc_panphon = PhoneCollection(PANPHON)"
   ]
  },
  {
   "cell_type": "markdown",
   "id": "c8484a12-ffcc-4b84-8b86-a0b8fc6be932",
   "metadata": {},
   "source": [
    "## Dialects\n",
    "When using the ```PHOIBLE``` source, dialects are not loaded per default. You can change this by using ```load_dialects``` and specifying a specific dialect by using ``.dialects``."
   ]
  },
  {
   "cell_type": "code",
   "execution_count": 10,
   "id": "fb45ca5e-c083-4b2f-8092-4343965fb7ed",
   "metadata": {},
   "outputs": [
    {
     "data": {
      "text/plain": [
       "[a (eng), aɪ (eng), aʊ (eng), b (eng), d (eng)]"
      ]
     },
     "execution_count": 10,
     "metadata": {},
     "output_type": "execute_result"
    }
   ],
   "source": [
    "pc_dialects = PhoneCollection(load_dialects=True)\n",
    "pc_dialects.langs(\"eng\").dialects(\"english (liverpool)\").values[:5]"
   ]
  },
  {
   "cell_type": "markdown",
   "id": "921eb2cc-40fd-407d-9401-ce85b34dbf53",
   "metadata": {},
   "source": [
    "Some languages do not have a \"standard\" version and are only accessible when using ```load_dialects```, for example Asturian."
   ]
  },
  {
   "cell_type": "code",
   "execution_count": 11,
   "id": "14e03ab9-ac01-4160-a7b3-5fc0fe202148",
   "metadata": {},
   "outputs": [
    {
     "data": {
      "text/plain": [
       "([], [b (ast), d̪ (ast), e̞ (ast), f (ast), i (ast)])"
      ]
     },
     "execution_count": 11,
     "metadata": {},
     "output_type": "execute_result"
    }
   ],
   "source": [
    "pc.langs(\"ast\").values, pc_dialects.langs(\"ast\").dialects(\"asturian (north-eastern)\").values[:5]"
   ]
  },
  {
   "cell_type": "markdown",
   "id": "c53d9c3f-02b1-4846-94c8-c1ad45f9d68a",
   "metadata": {},
   "source": [
    "You can list dialects using ```dialect_list```."
   ]
  },
  {
   "cell_type": "code",
   "execution_count": 12,
   "id": "454c5f43-6b15-4c91-b342-23da4a4002cf",
   "metadata": {},
   "outputs": [
    {
     "data": {
      "text/plain": [
       "['Asturian (North-Eastern)', 'Asturian (Western)']"
      ]
     },
     "execution_count": 12,
     "metadata": {},
     "output_type": "execute_result"
    }
   ],
   "source": [
    "pc_dialects.langs(\"ast\").dialect_list"
   ]
  }
 ],
 "metadata": {
  "kernelspec": {
   "display_name": "Python 3 (ipykernel)",
   "language": "python",
   "name": "python3"
  },
  "language_info": {
   "codemirror_mode": {
    "name": "ipython",
    "version": 3
   },
   "file_extension": ".py",
   "mimetype": "text/x-python",
   "name": "python",
   "nbconvert_exporter": "python",
   "pygments_lexer": "ipython3",
   "version": "3.10.6"
  }
 },
 "nbformat": 4,
 "nbformat_minor": 5
}
