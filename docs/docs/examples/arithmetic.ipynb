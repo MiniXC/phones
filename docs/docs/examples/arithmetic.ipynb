{
 "cells": [
  {
   "cell_type": "code",
   "execution_count": 1,
   "id": "6efbed67-8d43-48b0-888f-15016a445639",
   "metadata": {},
   "outputs": [],
   "source": [
    "from phones import PhoneCollection\n",
    "pc = PhoneCollection()"
   ]
  },
  {
   "cell_type": "markdown",
   "id": "2705f56d-ba71-4c3c-9d02-b100b035daca",
   "metadata": {},
   "source": [
    "Phones in this library support arithmetic operations. Please note that this is fairly slow when not filtering by language and/or dialect."
   ]
  },
  {
   "cell_type": "code",
   "execution_count": 2,
   "id": "6a775a54-caa2-4a5d-be3f-da8ed9e06773",
   "metadata": {},
   "outputs": [
    {
     "data": {
      "text/plain": [
       "(1.0, eo (bhg))"
      ]
     },
     "execution_count": 2,
     "metadata": {},
     "output_type": "execute_result"
    }
   ],
   "source": [
    "(pc.phones(\"ø\").val + pc.phones(\"o\").val)[0]"
   ]
  },
  {
   "cell_type": "markdown",
   "id": "ffb41a59-7412-4696-85e4-1db8d010922e",
   "metadata": {},
   "source": [
    "### PhoneFeatures\n",
    "Using a `PhoneFeature`, individual features can be altered."
   ]
  },
  {
   "cell_type": "code",
   "execution_count": 3,
   "id": "c4226d1b-5b5c-4505-b87d-3d2c6419d9ab",
   "metadata": {},
   "outputs": [],
   "source": [
    "from phones.features import PhoneFeature"
   ]
  },
  {
   "cell_type": "code",
   "execution_count": 4,
   "id": "b33c2f4d-01d8-4c3d-a894-8265df7a5c59",
   "metadata": {},
   "outputs": [
    {
     "data": {
      "text/plain": [
       "(0.0, ʉu (fao))"
      ]
     },
     "execution_count": 4,
     "metadata": {},
     "output_type": "execute_result"
    }
   ],
   "source": [
    "(pc.phones(\"ʉ\").val + PhoneFeature(\"back\", 1))[0]"
   ]
  },
  {
   "cell_type": "code",
   "execution_count": 5,
   "id": "5b8986a4-0c0d-4964-b9e1-e5c64e98e9b1",
   "metadata": {},
   "outputs": [
    {
     "data": {
      "text/plain": [
       "(1.0, ɨ̜ (kid))"
      ]
     },
     "execution_count": 5,
     "metadata": {},
     "output_type": "execute_result"
    }
   ],
   "source": [
    "(pc.phones(\"ʉ\").val - PhoneFeature(\"round\", 1))[0]"
   ]
  },
  {
   "cell_type": "markdown",
   "id": "ce6b383c-58ed-4c70-979c-90f3dd3790f0",
   "metadata": {},
   "source": [
    "#### Listing Features"
   ]
  },
  {
   "cell_type": "code",
   "execution_count": 6,
   "id": "a313fe3f-34ca-416f-b244-1e7079ecee46",
   "metadata": {},
   "outputs": [
    {
     "data": {
      "text/plain": [
       "['advancedTongueRoot',\n",
       " 'anterior',\n",
       " 'approximant',\n",
       " 'back',\n",
       " 'click',\n",
       " 'consonantal',\n",
       " 'constrictedGlottis',\n",
       " 'continuant',\n",
       " 'coronal',\n",
       " 'delayedRelease',\n",
       " 'distributed',\n",
       " 'dorsal',\n",
       " 'epilaryngealSource',\n",
       " 'fortis',\n",
       " 'front',\n",
       " 'high',\n",
       " 'labial',\n",
       " 'labiodental',\n",
       " 'lateral',\n",
       " 'long',\n",
       " 'low',\n",
       " 'loweredLarynxImplosive',\n",
       " 'nasal',\n",
       " 'periodicGlottalSource',\n",
       " 'raisedLarynxEjective',\n",
       " 'retractedTongueRoot',\n",
       " 'round',\n",
       " 'short',\n",
       " 'sonorant',\n",
       " 'spreadGlottis',\n",
       " 'stress',\n",
       " 'strident',\n",
       " 'syllabic',\n",
       " 'tap',\n",
       " 'tense',\n",
       " 'tone',\n",
       " 'trill']"
      ]
     },
     "execution_count": 6,
     "metadata": {},
     "output_type": "execute_result"
    }
   ],
   "source": [
    "pc.features"
   ]
  }
 ],
 "metadata": {
  "kernelspec": {
   "display_name": "Python 3 (ipykernel)",
   "language": "python",
   "name": "python3"
  },
  "language_info": {
   "codemirror_mode": {
    "name": "ipython",
    "version": 3
   },
   "file_extension": ".py",
   "mimetype": "text/x-python",
   "name": "python",
   "nbconvert_exporter": "python",
   "pygments_lexer": "ipython3",
   "version": "3.10.6"
  }
 },
 "nbformat": 4,
 "nbformat_minor": 5
}
