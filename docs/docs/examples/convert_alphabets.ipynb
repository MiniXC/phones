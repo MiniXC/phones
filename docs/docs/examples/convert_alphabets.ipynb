{
 "cells": [
  {
   "cell_type": "markdown",
   "id": "fe08f8d3-6f6c-4056-9bb5-26ce9656cae8",
   "metadata": {},
   "source": [
    "To convert between phonetic alphabets, the [R package \"ipa\"](https://github.com/rossellhayes/ipa) has been reimplemented in `phones`.\n",
    "This currently supports `arpabet`, `ipa` and `xsampa`."
   ]
  },
  {
   "cell_type": "markdown",
   "id": "8fad676f-226b-477a-9b98-c790e5a304e1",
   "metadata": {},
   "source": [
    "### Using Converter\n",
    "You can use the ``converter`` object below to convert a string of phones."
   ]
  },
  {
   "cell_type": "code",
   "execution_count": 1,
   "id": "b4f5abc6-a17d-44e9-8470-de6c32b0c8f7",
   "metadata": {},
   "outputs": [],
   "source": [
    "from phones.convert import converter"
   ]
  },
  {
   "cell_type": "code",
   "execution_count": 2,
   "id": "34f55c98-7b50-40f1-aac3-88fd42e94935",
   "metadata": {},
   "outputs": [
    {
     "data": {
      "text/plain": [
       "'hɛloʊ'"
      ]
     },
     "execution_count": 2,
     "metadata": {},
     "output_type": "execute_result"
    }
   ],
   "source": [
    "converter.convert(\"HH EH L OW\", \"arpabet\", \"ipa\")"
   ]
  },
  {
   "cell_type": "markdown",
   "id": "f5014f38-568b-4f10-a0a7-f3bbac2f955b",
   "metadata": {},
   "source": [
    "### Using Alphabet Classes\n",
    "You can also use the specific class for each phonetic alphabet."
   ]
  },
  {
   "cell_type": "code",
   "execution_count": 4,
   "id": "ba02c64f-c95d-47cb-858d-68fa990f7527",
   "metadata": {},
   "outputs": [],
   "source": [
    "from phones.convert import Arpabet, XSampa, Ipa"
   ]
  },
  {
   "cell_type": "code",
   "execution_count": 6,
   "id": "93a2ea3c-efb9-402f-ab7e-635138fb6c5a",
   "metadata": {},
   "outputs": [
    {
     "data": {
      "text/plain": [
       "'HH EH L OW'"
      ]
     },
     "execution_count": 6,
     "metadata": {},
     "output_type": "execute_result"
    }
   ],
   "source": [
    "str(Ipa('hɛloʊ').to_arpabet())"
   ]
  }
 ],
 "metadata": {
  "kernelspec": {
   "display_name": "Python 3 (ipykernel)",
   "language": "python",
   "name": "python3"
  },
  "language_info": {
   "codemirror_mode": {
    "name": "ipython",
    "version": 3
   },
   "file_extension": ".py",
   "mimetype": "text/x-python",
   "name": "python",
   "nbconvert_exporter": "python",
   "pygments_lexer": "ipython3",
   "version": "3.9.7"
  }
 },
 "nbformat": 4,
 "nbformat_minor": 5
}
