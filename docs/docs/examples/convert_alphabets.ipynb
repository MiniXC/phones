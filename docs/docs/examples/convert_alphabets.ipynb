{
 "cells": [
  {
   "cell_type": "markdown",
   "id": "fe08f8d3-6f6c-4056-9bb5-26ce9656cae8",
   "metadata": {},
   "source": [
    "To convert between phonetic alphabets, the [phonecodes package](https://github.com/jhasegaw/phonecodes) has been integrated in `phones`.\n",
    "This currently supports `arpabet`, `ipa`, `xsampa`, `disc` and `callhome`."
   ]
  },
  {
   "cell_type": "markdown",
   "id": "8fad676f-226b-477a-9b98-c790e5a304e1",
   "metadata": {},
   "source": [
    "### Using Converter\n",
    "You can use the ``Converter`` object below to convert a string of phones to a list of phones in a different alphabet."
   ]
  },
  {
   "cell_type": "code",
   "execution_count": 1,
   "id": "b4f5abc6-a17d-44e9-8470-de6c32b0c8f7",
   "metadata": {},
   "outputs": [],
   "source": [
    "from phones.convert import Converter\n",
    "converter = Converter()"
   ]
  },
  {
   "cell_type": "code",
   "execution_count": 2,
   "id": "34f55c98-7b50-40f1-aac3-88fd42e94935",
   "metadata": {},
   "outputs": [
    {
     "data": {
      "text/plain": [
       "['h', 'ɛ', 'l', 'oʊ']"
      ]
     },
     "execution_count": 2,
     "metadata": {},
     "output_type": "execute_result"
    }
   ],
   "source": [
    "converter(\"HH EH L OW\", \"arpabet\", \"ipa\")"
   ]
  },
  {
   "cell_type": "markdown",
   "id": "52b204f3-0dbb-4f53-9d3f-15e2e2573711",
   "metadata": {},
   "source": [
    "We can also convert to a string."
   ]
  },
  {
   "cell_type": "code",
   "execution_count": 3,
   "id": "1eafcf25-ea96-4b43-a4f6-8642a978aa91",
   "metadata": {},
   "outputs": [
    {
     "data": {
      "text/plain": [
       "'h ɛ l oʊ'"
      ]
     },
     "execution_count": 3,
     "metadata": {},
     "output_type": "execute_result"
    }
   ],
   "source": [
    "converter(\"HH EH L OW\", \"arpabet\", \"ipa\", return_str=True)"
   ]
  },
  {
   "cell_type": "markdown",
   "id": "1db4b727-057b-4b13-8a2d-3c39333bdf93",
   "metadata": {},
   "source": [
    "And show all possible formats."
   ]
  },
  {
   "cell_type": "code",
   "execution_count": 4,
   "id": "9deecf58-0202-41e1-bfc8-58158739dfa9",
   "metadata": {},
   "outputs": [
    {
     "data": {
      "text/plain": [
       "['disc', 'xsampa', 'ipa', 'callhome', 'arpabet']"
      ]
     },
     "execution_count": 4,
     "metadata": {},
     "output_type": "execute_result"
    }
   ],
   "source": [
    "converter.formats"
   ]
  }
 ],
 "metadata": {
  "kernelspec": {
   "display_name": "Python 3",
   "language": "python",
   "name": "python3"
  },
  "language_info": {
   "codemirror_mode": {
    "name": "ipython",
    "version": 3
   },
   "file_extension": ".py",
   "mimetype": "text/x-python",
   "name": "python",
   "nbconvert_exporter": "python",
   "pygments_lexer": "ipython3",
   "version": "3.9.5"
  }
 },
 "nbformat": 4,
 "nbformat_minor": 5
}
